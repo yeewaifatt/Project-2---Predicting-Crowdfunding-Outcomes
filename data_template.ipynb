{
 "cells": [
  {
   "cell_type": "code",
   "execution_count": 1,
   "metadata": {},
   "outputs": [],
   "source": [
    "import pandas as pd\n",
    "import numpy as np\n",
    "import os.path\n",
    "from pathlib import Path\n",
    "import glob\n",
    "import json\n",
    "\n",
    "# Find the dataset @ (CSV files 2022-04-21, https://webrobots.io/kickstarter-datasets/)\n",
    "# download link: https://s3.amazonaws.com/weruns/forfun/Kickstarter/Kickstarter_2022-04-21T03_20_08_060Z.zip"
   ]
  },
  {
   "cell_type": "markdown",
   "metadata": {},
   "source": [
    "### Create master Data Frame\n",
    "before running this code, create a folder inside the repo folder called 'raw_data' contiaining the exctracted CSV files from the download link.\n",
    "\n",
    "The code will create a new directory called 'data' to store the processed data."
   ]
  },
  {
   "cell_type": "code",
   "execution_count": 2,
   "metadata": {},
   "outputs": [
    {
     "name": "stdout",
     "output_type": "stream",
     "text": [
      "creating data directory\n"
     ]
    }
   ],
   "source": [
    "# create folder inside the current directory to hold the processed data\n",
    "try:\n",
    "    Path('data').mkdir(parents=True, exist_ok=False)\n",
    "    print ('creating data directory')\n",
    "except:\n",
    "    print ('directory already exists')\n",
    "    pass"
   ]
  },
  {
   "cell_type": "code",
   "execution_count": 3,
   "metadata": {},
   "outputs": [],
   "source": [
    "# path to each file in the all_data folder\n",
    "all_paths = glob.glob('raw_data/*.csv')\n",
    "\n",
    "# list to append df's to\n",
    "list_of_df = []\n",
    "\n",
    "# loop through all paths and append each csv as a df\n",
    "for filename in all_paths:\n",
    "    df = pd.read_csv(filename, index_col=None, header=0)\n",
    "    list_of_df.append(df)\n",
    "\n",
    "# concat all df's into one df\n",
    "master_df = pd.concat(list_of_df, axis=0, ignore_index=True)\n",
    "\n",
    "# save df as master csv\n",
    "master_df.to_csv('data/master_df.csv', index=False)"
   ]
  },
  {
   "cell_type": "markdown",
   "metadata": {},
   "source": [
    "### Unpack columns containing JSON objects\n",
    "The code below takes all columns that represent dictionaries and saves them as individual csv files."
   ]
  },
  {
   "cell_type": "code",
   "execution_count": 4,
   "metadata": {},
   "outputs": [],
   "source": [
    "def make_json(string):\n",
    "    '''\n",
    "    converts the string representation of a json object into a python dict.\n",
    "    returns np.nan if the string contains commas.\n",
    "    '''\n",
    "    try:\n",
    "        # replace single quotations to make the string represent a JSON object\n",
    "        json_acceptable_string = string.replace(\"'\", \"\\\"\")\n",
    "        return(json.loads(json_acceptable_string))\n",
    "    except:\n",
    "        # if the string is still not JSON compatible return np.nan\n",
    "        return np.nan"
   ]
  },
  {
   "cell_type": "code",
   "execution_count": 5,
   "metadata": {},
   "outputs": [],
   "source": [
    "def unpack(data_frame, column):\n",
    "    '''\n",
    "    unpacks dict in column to dataframe.\n",
    "    '''\n",
    "    # convert all strings into JSON objects\n",
    "    unpacked = data_frame[column].apply(make_json).to_frame()\n",
    "\n",
    "    # unpack JSON into DataFrame\n",
    "    return pd.json_normalize(unpacked[column])"
   ]
  },
  {
   "cell_type": "code",
   "execution_count": 6,
   "metadata": {},
   "outputs": [],
   "source": [
    "# define which columns are represented as dicts\n",
    "unpack_list = ['category', 'creator', 'location', 'photo', 'profile', 'urls']\n",
    "\n",
    "# init empty df \n",
    "unpacked_df = pd.DataFrame()\n",
    "\n",
    "# unpack each column of dicts, save each as their own csv\n",
    "for value in unpack_list:\n",
    "    frame = unpack(master_df, value)\n",
    "    frame.to_csv(f'data/{value}.csv', index=False)  "
   ]
  }
 ],
 "metadata": {
  "interpreter": {
   "hash": "097c1c50147d69c70dea14784d774fa19f0c571c55d8af2791c45a24b5968fed"
  },
  "kernelspec": {
   "display_name": "Python 3.7.7 ('dev')",
   "language": "python",
   "name": "python3"
  },
  "language_info": {
   "codemirror_mode": {
    "name": "ipython",
    "version": 3
   },
   "file_extension": ".py",
   "mimetype": "text/x-python",
   "name": "python",
   "nbconvert_exporter": "python",
   "pygments_lexer": "ipython3",
   "version": "3.7.7"
  },
  "orig_nbformat": 4
 },
 "nbformat": 4,
 "nbformat_minor": 2
}
